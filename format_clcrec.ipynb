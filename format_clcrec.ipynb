{
 "cells": [
  {
   "cell_type": "code",
   "execution_count": 1,
   "metadata": {},
   "outputs": [],
   "source": [
    "import numpy as np \n",
    "import os "
   ]
  },
  {
   "cell_type": "code",
   "execution_count": 2,
   "metadata": {},
   "outputs": [
    {
     "name": "stdout",
     "output_type": "stream",
     "text": [
      "num sample train: 128963\n",
      "n user train: 19442\n",
      "n item train: 5640\n",
      "------------------------------\n",
      "num sample test: 15982\n",
      "n user test: 10474\n",
      "n item test: 705\n",
      "------------------------------\n",
      "num sample val: 15847\n",
      "n user val: 10342\n",
      "n item val: 705\n",
      "n item: 7050\n",
      "len cat: 160792\n",
      "n user: 19445\n",
      "n warm user: 19442\n",
      "n warm item: 5640\n",
      "max uid: 19444\n",
      "min uid: 0\n",
      "max iid: 7049\n",
      "min iid: 0\n",
      "N_USER: 19445\n",
      "MAXXXX: (14, 0)\n",
      "MAXXXX: (19459, 0)\n"
     ]
    }
   ],
   "source": [
    "def load_file(path):\n",
    "    with open(path, 'r') as f:\n",
    "        data = f.readlines()\n",
    "    data = [[int(i) for i in j.strip().split(' ')] for j in data]\n",
    "    data_f = []\n",
    "    for line in data:\n",
    "        uid = line[0]\n",
    "        for item in line[1:]:\n",
    "            data_f.append([uid, item])\n",
    "    data_f = np.array(data_f)\n",
    "    n_user = len(list(set(data_f[:,0])))\n",
    "    n_item = len(list(set(data_f[:,1])))    \n",
    "    return data, data_f, n_user, n_item\n",
    "\n",
    "_, train_data, n_user_train, n_item_train = load_file('train.txt')\n",
    "print(f'num sample train: {len(train_data)}') # ok \n",
    "# print(f'train data:\\n{train_data}')\n",
    "print(f'n user train: {n_user_train}\\nn item train: {n_item_train}')\n",
    "print('-'*30)\n",
    "_, test_data, n_user_test, n_item_test = load_file('test.txt')\n",
    "print(f'num sample test: {len(test_data)}') \n",
    "# print(f'test data:\\n{test_data}')\n",
    "print(f'n user test: {n_user_test}\\nn item test: {n_item_test}')\n",
    "print('-'*30)\n",
    "_,val_data, n_user_val, n_item_val = load_file('val.txt')\n",
    "print(f'num sample val: {len(val_data)}')\n",
    "# print(f'val data:\\n{val_data}')\n",
    "print(f'n user val: {n_user_val}\\nn item val: {n_item_val}')\n",
    "\n",
    "n_item = n_item_train + n_item_test + n_item_val # item in dataset \n",
    "print(f'n item: {n_item}')\n",
    "user_list = np.concatenate([train_data[:,0], test_data[:,0], val_data[:,0]])\n",
    "print(f'len cat: {len(user_list)}')\n",
    "user_set = np.unique(user_list)\n",
    "n_user = len(user_set)\n",
    "n_warm_user = len(list(set(train_data[:,0])))\n",
    "n_warm_item = len(list(set(train_data[:,1])))\n",
    "print(f'n user: {n_user}')\n",
    "print(f'n warm user: {n_warm_user}')\n",
    "print(f'n warm item: {n_warm_item}')\n",
    "print(f'max uid: {np.max(user_set)}')\n",
    "print(f'min uid: {np.min(user_set)}')\n",
    "\n",
    "print(f'max iid: {np.max([np.max(train_data[:,1]), np.max(test_data[:,1]), np.max(val_data[:,1])])}')\n",
    "print(f'min iid: {np.min([np.min(train_data[:,1]), np.min(test_data[:,1]), np.min(val_data[:,1])])}')\n",
    "\n",
    "# create mapping function\n",
    "item_map = np.arange(n_item) + n_user\n",
    "# train_data[:,1] = item_map[train_data[:,1]]\n",
    "train_data[:,1] += n_user \n",
    "# test_data[:,1] = item_map[test_data[:,1]]\n",
    "print(f'N_USER: {n_user}')\n",
    "print(f'MAXXXX: {np.min(test_data[:,1]),np.min(test_data[:,0])}')\n",
    "test_data[:,1] += [n_user]*len(test_data) \n",
    "print(f'MAXXXX: {np.min(test_data[:,1]), np.min(test_data[:,0])}')\n",
    "# val_data[:,1] = item_map[val_data[:,1]]\n",
    "val_data[:,1] += n_user \n",
    "\n",
    "\n",
    "# size data  \n",
    "size_data = np.array([n_user, n_item, n_warm_user, n_warm_item])\n",
    "np.save('baby/size_data.npy', size_data)\n",
    "\n",
    "# save file \n",
    "if not os.path.exists('baby'):\n",
    "    os.mkdir('baby')\n",
    "np.save(f'baby/train.npy', train_data)\n",
    "np.save(f'baby/test_cold.npy', test_data)\n",
    "np.save(f'baby/val_cold.npy', val_data)\n",
    "\n",
    "# user set have id: [0, n_user-1]\n",
    "# item set have id: [n_user, n_user+n_item-1]\n",
    "\n",
    "# create mapping function \n",
    "# current: user id: [0, n_user-1] ~ [0, 19444] \n",
    "# current: item id: [0, n_item-1] ~ [0, 7049] \n",
    "# need: user id: [0, n_user-1] ~ [0, 19444]\n",
    "# need: item id: [0, n_item-1] ~ [19445, 26493]\n",
    "\n",
    "\n",
    "# print(np.max(item_map), np.min(item_map))\n",
    "\n",
    "# check \n",
    "\n",
    "# train_data \n",
    "# train_data[:,1] = item_map[train_data[:,1]]\n",
    "# print(train_data[:,1][0])\n",
    "# print(item_map[train_data[:,1]][0])\n",
    "# print(3239 + n_user)\n",
    "# ok \n",
    "\n",
    "# apply "
   ]
  },
  {
   "cell_type": "code",
   "execution_count": 3,
   "metadata": {},
   "outputs": [],
   "source": [
    "from collections import defaultdict\n",
    "train_raw = load_file('train.txt')[0]\n",
    "train_dict = defaultdict(list)\n",
    "train_dict_raw = defaultdict(list)\n",
    "for line in train_raw:\n",
    "    uid = line[0]\n",
    "    # print(uid, type(uid))\n",
    "    a = np.array(line[1:]) + n_user \n",
    "    train_dict[uid].extend(a)\n",
    "    train_dict_raw[uid].extend(line[1:])\n",
    "train_dict_np = np.array(dict(train_dict))\n",
    "# save \n",
    "np.save(f'baby/user_item_all_dict.npy', train_dict_np)\n",
    "np.save(f'baby/user_item_train_dict.npy', train_dict_np)"
   ]
  },
  {
   "cell_type": "code",
   "execution_count": 4,
   "metadata": {},
   "outputs": [
    {
     "name": "stdout",
     "output_type": "stream",
     "text": [
      "starting....\n",
      "end!\n"
     ]
    }
   ],
   "source": [
    "# copy multimedia feature from raw folder \n",
    "import shutil\n",
    "\n",
    "# copy file \n",
    "list_file = [\n",
    "    \"image_feat.npy\",\n",
    "    \"text_feat.npy\",\n",
    "    \"image_feat_missing_test.npy\",\n",
    "    \"text_feat_missing_test.npy\",\n",
    "    \"image_feat_missing_train.npy\",\n",
    "    \"text_feat_missing_train.npy\",\n",
    "    \"image_feat_missing_all.npy\",\n",
    "    \"text_feat_missing_all.npy\",\n",
    "]\n",
    "# shutil.copy('raw/multimedia_feature.npy', 'format_data/multimedia_feature.npy')\n",
    "\n",
    "print('starting....')\n",
    "for file in list_file:\n",
    "    shutil.copy(f'./{file}', f'baby/{file}')\n",
    "print('end!')"
   ]
  },
  {
   "cell_type": "code",
   "execution_count": 5,
   "metadata": {},
   "outputs": [
    {
     "name": "stdout",
     "output_type": "stream",
     "text": [
      "[21194, 20766, 19955, 24415, 23390]\n",
      "[1749, 1321, 510, 4970, 3945]\n",
      "0\n"
     ]
    }
   ],
   "source": [
    "# load to test \n",
    "user_item_all_dict = np.load('baby/user_item_all_dict.npy', allow_pickle=True).item()\n",
    "print(user_item_all_dict[0])\n",
    "print(dict(train_dict_raw)[0])\n",
    "print(user_item_all_dict[0][0] - dict(train_dict_raw)[0][0] - n_user)"
   ]
  },
  {
   "cell_type": "code",
   "execution_count": 6,
   "metadata": {},
   "outputs": [
    {
     "name": "stdout",
     "output_type": "stream",
     "text": [
      "warm_index: [19445 19447 19448 ... 26489 26492 26494]\n"
     ]
    }
   ],
   "source": [
    "# cold set \n",
    "cold_index = np.load('./cold_item_index.npy')\n",
    "cold_index = cold_index + n_user \n",
    "np.save('baby/cold_set.npy', cold_index)\n",
    "\n",
    "# warm set \n",
    "warm_index = np.array(list(set(train_data[:,1])))\n",
    "print(f'warm_index: {warm_index}') \n",
    "np.save('./baby/warm_set.npy', warm_index)"
   ]
  },
  {
   "cell_type": "code",
   "execution_count": 7,
   "metadata": {},
   "outputs": [
    {
     "name": "stdout",
     "output_type": "stream",
     "text": [
      "test 1: 7050\n",
      "test 2: 19445\n",
      "test 3: (19445, 0)\n",
      "test 1: 7048\n",
      "test 2: 19459\n",
      "test 3: (19459, 0)\n"
     ]
    },
    {
     "data": {
      "text/plain": [
       "'\\nnum_user = 19445\\nnum_item = 7050\\nnum_warm_item = 5640\\n'"
      ]
     },
     "execution_count": 7,
     "metadata": {},
     "output_type": "execute_result"
    }
   ],
   "source": [
    "# check all \n",
    "def check(file_path):\n",
    "    data = np.load(file_path, allow_pickle=True)\n",
    "    all_user = data[:,0]\n",
    "    all_item = data[:,1]\n",
    "    test1 = np.max(all_item) - np.max(all_user)\n",
    "    print(f'test 1: {test1}')\n",
    "    test2 = np.min(all_item) - np.min(all_user)\n",
    "    print(f'test 2: {test2}')\n",
    "    print(f'test 3: {np.min(all_item), np.min(all_user)}')\n",
    "\n",
    "check('baby/train.npy')\n",
    "check('baby/test_cold.npy')\n",
    "# check('baby/val_cold.npy')\n",
    "\n",
    "\"\"\"\n",
    "num_user = 19445\n",
    "num_item = 7050\n",
    "num_warm_item = 5640\n",
    "\"\"\""
   ]
  }
 ],
 "metadata": {
  "kernelspec": {
   "display_name": "base",
   "language": "python",
   "name": "python3"
  },
  "language_info": {
   "codemirror_mode": {
    "name": "ipython",
    "version": 3
   },
   "file_extension": ".py",
   "mimetype": "text/x-python",
   "name": "python",
   "nbconvert_exporter": "python",
   "pygments_lexer": "ipython3",
   "version": "3.12.7"
  }
 },
 "nbformat": 4,
 "nbformat_minor": 2
}
